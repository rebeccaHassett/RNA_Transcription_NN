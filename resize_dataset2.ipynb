{
 "cells": [
  {
   "cell_type": "code",
   "execution_count": null,
   "metadata": {},
   "outputs": [],
   "source": [
    "import numpy as np\n",
    "import pandas as pd\n",
    "import torch\n",
    "import torch.utils.data as td\n",
    "from torch.utils.data import DataLoader, Dataset\n",
    "import matplotlib.pyplot as plt\n",
    "import matplotlib.colors as colors\n",
    "\n",
    "froot = './data/k562_main'\n",
    "\n",
    "df = pd.read_csv(froot + \".csv\")"
   ]
  },
  {
   "cell_type": "code",
   "execution_count": null,
   "metadata": {},
   "outputs": [],
   "source": [
    "grouped = df.groupby('ensembl_gene_id')\n",
    "\n",
    "# Create an empty DataFrame to store the filtered data\n",
    "filtered_df = pd.DataFrame(columns=df.columns)\n",
    "\n",
    "# Iterate through each group and append the first 200 rows to the filtered DataFrame\n",
    "#for _, group in grouped:\n",
    " #   filtered_df = filtered_df.append(group.head(200))\n",
    " \n",
    "unique_id = 1   \n",
    "for _, group in grouped:\n",
    "    group_size = len(group)\n",
    "    current_row = 0\n",
    "    rows_to_append = 200\n",
    "    for i in range(10):\n",
    "        filtered_df = filtered_df.append(group.iloc[current_row:current_row + rows_to_append])\n",
    "        filtered_df.loc[filtered_df.index[-rows_to_append:], 'ensembl_gene_id'] = f'new_gene_{unique_id}'\n",
    "        current_row += rows_to_append\n",
    "        unique_id += 1\n",
    "        if current_row + 200 >= group_size:\n",
    "            break\n",
    "\n",
    "\n",
    "\n",
    "filtered_path = 'k562_medium.csv'\n",
    "filtered_df.to_csv(filtered_path, index=False)"
   ]
  },
  {
   "cell_type": "code",
   "execution_count": null,
   "metadata": {},
   "outputs": [],
   "source": []
  }
 ],
 "metadata": {
  "language_info": {
   "name": "python"
  },
  "orig_nbformat": 4
 },
 "nbformat": 4,
 "nbformat_minor": 2
}

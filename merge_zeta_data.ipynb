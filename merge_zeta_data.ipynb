{
 "cells": [
  {
   "cell_type": "code",
   "execution_count": 1,
   "metadata": {},
   "outputs": [],
   "source": [
    "import numpy as np\n",
    "import pandas as pd\n",
    "\n",
    "froot = './data/k562_lambdaAlphaj'\n",
    "zroot = './data/k562_predZetaByEp'\n",
    "\n",
    "main_df = pd.read_csv(froot + \".csv\")\n",
    "zeta_df = pd.read_csv(zroot + \".csv\")\n",
    "\n",
    "merged_df = pd.concat([main_df, zeta_df], axis=1)\n",
    "merged_df.to_csv('./data/k562_main.csv', index=False)"
   ]
  }
 ],
 "metadata": {
  "kernelspec": {
   "display_name": "cnn-motif",
   "language": "python",
   "name": "python3"
  },
  "language_info": {
   "codemirror_mode": {
    "name": "ipython",
    "version": 3
   },
   "file_extension": ".py",
   "mimetype": "text/x-python",
   "name": "python",
   "nbconvert_exporter": "python",
   "pygments_lexer": "ipython3",
   "version": "3.8.17"
  },
  "orig_nbformat": 4
 },
 "nbformat": 4,
 "nbformat_minor": 2
}

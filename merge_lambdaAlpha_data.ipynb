{
 "cells": [
  {
   "cell_type": "code",
   "execution_count": 1,
   "metadata": {},
   "outputs": [],
   "source": [
    "import numpy as np\n",
    "import pandas as pd\n",
    "\n",
    "froot = './data/k562_ep_nt'\n",
    "la_root = './data/k562_lambdaAlphaj'\n",
    "\n",
    "df = pd.read_csv(froot + \".csv\")\n",
    "lambda_alpha_df = pd.read_csv(la_root + \".csv\")\n",
    "\n",
    "result_df = pd.merge(df, lambda_alpha_df, on='ensembl_gene_id', how='left')\n",
    "result_df.to_csv('./data/k562_ep_nt_lambdaAlphaj.csv', index=False)"
   ]
  }
 ],
 "metadata": {
  "kernelspec": {
   "display_name": "cnn-motif",
   "language": "python",
   "name": "python3"
  },
  "language_info": {
   "codemirror_mode": {
    "name": "ipython",
    "version": 3
   },
   "file_extension": ".py",
   "mimetype": "text/x-python",
   "name": "python",
   "nbconvert_exporter": "python",
   "pygments_lexer": "ipython3",
   "version": "3.8.17"
  },
  "orig_nbformat": 4
 },
 "nbformat": 4,
 "nbformat_minor": 2
}

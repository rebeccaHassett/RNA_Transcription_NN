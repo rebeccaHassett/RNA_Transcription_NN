{
 "cells": [
  {
   "cell_type": "code",
   "execution_count": 1,
   "id": "d612a225",
   "metadata": {},
   "outputs": [],
   "source": [
    "import numpy as np\n",
    "import pandas as pd\n",
    "import torch\n",
    "import torch.utils.data as td\n",
    "from torch.utils.data import DataLoader, Dataset\n",
    "import matplotlib.pyplot as plt\n",
    "import matplotlib.colors as colors"
   ]
  },
  {
   "cell_type": "code",
   "execution_count": 2,
   "id": "35ba1335",
   "metadata": {},
   "outputs": [],
   "source": [
    "froot = './data/k562_small'\n",
    "\n",
    "df = pd.read_csv(froot + \".csv\")"
   ]
  },
  {
   "cell_type": "code",
   "execution_count": 3,
   "id": "25c67eaa",
   "metadata": {},
   "outputs": [
    {
     "name": "stdout",
     "output_type": "stream",
     "text": [
      "   seqnames     start       end strand  ensembl_gene_id  score      ctcf  \\\n",
      "0         6  41077441  41077441      +  ENSG00000001167    0.0 -0.074159   \n",
      "1         6  41077442  41077442      +  ENSG00000001167    0.0 -0.074217   \n",
      "2         6  41077443  41077443      +  ENSG00000001167    0.0 -0.074276   \n",
      "3         6  41077444  41077444      +  ENSG00000001167    0.0 -0.074336   \n",
      "4         6  41077445  41077445      +  ENSG00000001167    0.0 -0.074398   \n",
      "\n",
      "   h3k36me3   h3k4me1  h3k79me2  ...       sj3       dms      rpts  wgbs  \\\n",
      "0 -0.347414 -0.231637  1.630302  ... -0.057178 -0.307549  0.249626   0.0   \n",
      "1 -0.346807 -0.231970  1.628545  ... -0.057178 -0.307549  0.249626   0.0   \n",
      "2 -0.346199 -0.232304  1.626748  ... -0.057178 -0.307549  0.249626   0.0   \n",
      "3 -0.345591 -0.232638  1.624913  ... -0.057178 -0.307549  0.249626   0.0   \n",
      "4 -0.344983 -0.232972  1.623041  ... -0.057178 -0.307549  0.249626   0.0   \n",
      "\n",
      "       A         T         G         C  lambda_alphaj      zeta  \n",
      "0 -0.625  1.473964 -0.511621 -0.494439       0.021942  0.958467  \n",
      "1 -0.625 -0.678443  1.954571 -0.494439       0.021942  0.958439  \n",
      "2 -0.625  1.473964 -0.511621 -0.494439       0.021942  0.958421  \n",
      "3 -0.625 -0.678443 -0.511621  2.022493       0.021942  0.958413  \n",
      "4 -0.625  1.473964 -0.511621 -0.494439       0.021942  0.958414  \n",
      "\n",
      "[5 rows x 24 columns]\n"
     ]
    }
   ],
   "source": [
    "print(df.head())"
   ]
  },
  {
   "cell_type": "code",
   "execution_count": 4,
   "id": "7b54d1bf",
   "metadata": {},
   "outputs": [],
   "source": [
    "df['gene_length'] = df.groupby('ensembl_gene_id')['ensembl_gene_id'].transform('count')"
   ]
  },
  {
   "cell_type": "code",
   "execution_count": 5,
   "id": "9a8abcdb",
   "metadata": {},
   "outputs": [
    {
     "name": "stdout",
     "output_type": "stream",
     "text": [
      "['ctcf', 'h3k36me3', 'h3k4me1', 'h3k79me2', 'h3k9me1', 'h3k9me3', 'h4k20me1', 'sj5', 'sj3', 'dms', 'rpts', 'wgbs']\n",
      "['A', 'T', 'G', 'C']\n"
     ]
    }
   ],
   "source": [
    "column_names = df.columns.tolist()\n",
    "feature_names = column_names[6:-7]\n",
    "nucleotides = column_names[-7:-3]\n",
    "print(feature_names)\n",
    "print(nucleotides)\n",
    "\n",
    "# process read counts\n",
    "X_ji = df.groupby('ensembl_gene_id')['score'].apply(list).tolist() \n",
    "\n",
    "# process GLM simulated elongation rates\n",
    "Z_ji = df.groupby('ensembl_gene_id')['zeta'].apply(list).tolist() \n",
    "\n",
    "num_samples = len(X_ji)"
   ]
  },
  {
   "cell_type": "code",
   "execution_count": 6,
   "id": "40cae20e",
   "metadata": {},
   "outputs": [
    {
     "name": "stdout",
     "output_type": "stream",
     "text": [
      "1502\n"
     ]
    }
   ],
   "source": [
    "print(num_samples)"
   ]
  },
  {
   "cell_type": "code",
   "execution_count": 7,
   "id": "ef3e2763",
   "metadata": {},
   "outputs": [],
   "source": [
    "def sliding_window(data, window_size):\n",
    "    data = np.array(data)  # Convert data to a NumPy array for efficient operations\n",
    "    num_sites = len(data)\n",
    "    \n",
    "    sub_sequences = []\n",
    "    \n",
    "    for i in range(num_sites):\n",
    "        start = i - window_size // 2\n",
    "        end = i + window_size // 2 + 1  # +1 to include the right edge\n",
    "        \n",
    "        # Ensure that the window is within the bounds of the sequence\n",
    "        if start < 0:\n",
    "            padding_start = abs(start)\n",
    "            start = 0\n",
    "        else:\n",
    "            padding_start = 0\n",
    "        \n",
    "        if end > num_sites:\n",
    "            padding_end = end - num_sites\n",
    "            end = num_sites\n",
    "        else:\n",
    "            padding_end = 0\n",
    "        \n",
    "        window = data[start:end]\n",
    "        \n",
    "        # Pad the window if necessary\n",
    "        if padding_start > 0 or padding_end > 0:\n",
    "            window = np.pad(window, (padding_start, padding_end), mode='constant')\n",
    "        \n",
    "        sub_sequences.append(window)\n",
    "    \n",
    "    return sub_sequences\n",
    "\n",
    "window_size = 201  # 100 sites to the left, 100 sites to the right, and the target site"
   ]
  },
  {
   "cell_type": "code",
   "execution_count": 8,
   "id": "3ecb3e28",
   "metadata": {},
   "outputs": [],
   "source": [
    "X_ji_windows = []\n",
    "for seq in X_ji:\n",
    "    x_windows = sliding_window(seq, window_size)\n",
    "    X_ji_windows.extend(x_windows)"
   ]
  },
  {
   "cell_type": "code",
   "execution_count": 9,
   "id": "4f77d389",
   "metadata": {},
   "outputs": [],
   "source": [
    "Z_ji_windows = []\n",
    "for seq in Z_ji:\n",
    "    z_windows = sliding_window(seq, window_size)\n",
    "    Z_ji_windows.extend(z_windows)"
   ]
  },
  {
   "cell_type": "code",
   "execution_count": 10,
   "id": "cffd98a0",
   "metadata": {},
   "outputs": [],
   "source": [
    "C_j = df.groupby('ensembl_gene_id')['lambda_alphaj'].apply(list).tolist() "
   ]
  },
  {
   "cell_type": "code",
   "execution_count": 11,
   "id": "195a1625",
   "metadata": {},
   "outputs": [],
   "source": [
    "C_j_windows = []\n",
    "for seq in C_j:\n",
    "    c_windows = sliding_window(seq, window_size)\n",
    "    C_j_windows.extend(c_windows)"
   ]
  },
  {
   "cell_type": "code",
   "execution_count": 12,
   "id": "e396e7f2",
   "metadata": {},
   "outputs": [],
   "source": [
    "from sklearn.preprocessing import MinMaxScaler\n",
    "\n",
    "#Y_ji is a list of samples containing lists of their feature values\n",
    "    # [   \n",
    "    #   [[sample_1_feature_1], [sample_1_feature_2], [sample_1_feature_3]],\n",
    "    #   [[sample_2_feature_1], [sample_2_feature_2], [sample_2_feature_3]],  \n",
    "    # ]\n",
    "\n",
    "#Y_ji = []\n",
    "\n",
    "#for sample_id in df['ensembl_gene_id'].unique():\n",
    "#    sample_data = [df[feature_name][df['ensembl_gene_id'] == sample_id].tolist() for feature_name in feature_names]\n",
    "#    Y_ji.append(sample_data)\n",
    "\n",
    "grouped_data = df.groupby('ensembl_gene_id')\n",
    "\n",
    "# Initialize Y_ji as a list\n",
    "Y_ji = []\n",
    "\n",
    "# Iterate over groups in the grouped data\n",
    "for _, group in grouped_data:\n",
    "    # Extract features for each group\n",
    "    sample_data = [group[feature_name].tolist() for feature_name in feature_names]\n",
    "    Y_ji.append(sample_data)"
   ]
  },
  {
   "cell_type": "code",
   "execution_count": null,
   "id": "7c660a52",
   "metadata": {},
   "outputs": [],
   "source": [
    "# normalize features\n",
    "scaler = MinMaxScaler()\n",
    "Y_ji = np.array(Y_ji)\n",
    "# reshape dataset to [num_samples, num_features * feature_length]\n",
    "Y_ji_reshaped = Y_ji.reshape(Y_ji.shape[0], -1)\n",
    "normalized_Y_ji_reshaped = scaler.fit_transform(Y_ji_reshaped)\n",
    "Y_ji = normalized_Y_ji_reshaped.reshape(Y_ji.shape)"
   ]
  },
  {
   "cell_type": "code",
   "execution_count": 13,
   "id": "3643ca06",
   "metadata": {},
   "outputs": [],
   "source": [
    "import numpy as np\n",
    "from concurrent.futures import ProcessPoolExecutor\n",
    "\n",
    "def process_sample(sample, window_size):\n",
    "    sample_sub_sequences = []\n",
    "    num_features = len(sample)\n",
    "    max_entries = max(len(sample[j]) for j in range(num_features))\n",
    "    \n",
    "    for k in range(max_entries):\n",
    "        current_window_group = []\n",
    "        for j in range(num_features):\n",
    "            sample_feature = np.array(sample[j])\n",
    "            num_entries = len(sample_feature)\n",
    "\n",
    "            start = k - window_size // 2\n",
    "            end = k + window_size // 2 + 1  # +1 to include the right edge\n",
    "\n",
    "            # Ensure that the window is within the bounds of the sequence\n",
    "            if start < 0:\n",
    "                padding_start = abs(start)\n",
    "                start = 0\n",
    "            else:\n",
    "                padding_start = 0\n",
    "\n",
    "            if end > num_entries:\n",
    "                padding_end = end - num_entries\n",
    "                end = num_entries\n",
    "            else:\n",
    "                padding_end = 0\n",
    "\n",
    "            window = sample_feature[start:end]\n",
    "\n",
    "            # Pad the window if necessary\n",
    "            if padding_start > 0 or padding_end > 0:\n",
    "                window = np.pad(window, (padding_start, padding_end), mode='constant')\n",
    "\n",
    "            current_window_group.append(window)\n",
    "        sample_sub_sequences.append(current_window_group)\n",
    "    \n",
    "    return sample_sub_sequences\n",
    "\n",
    "def sliding_window_multi_feature(data, window_size):\n",
    "    with ProcessPoolExecutor() as executor:\n",
    "        results = list(executor.map(process_sample, data, [window_size]*len(data)))\n",
    "    \n",
    "    sub_sequences = [item for sublist in results for item in sublist]\n",
    "    return sub_sequences"
   ]
  },
  {
   "cell_type": "code",
   "execution_count": 14,
   "id": "c368e9a0",
   "metadata": {},
   "outputs": [],
   "source": [
    "Y_ji_windows = sliding_window_multi_feature(Y_ji, window_size)"
   ]
  },
  {
   "cell_type": "code",
   "execution_count": 15,
   "id": "35f18812",
   "metadata": {},
   "outputs": [],
   "source": [
    "from torch.utils.data import Dataset, DataLoader, TensorDataset\n",
    "\n",
    "class CustomDataset(Dataset):\n",
    "    def __init__(self, Y_ji, X_ji, C_j, Z_ji):\n",
    "        self.Y_ji = Y_ji\n",
    "        self.X_ji = X_ji\n",
    "        self.C_j = C_j\n",
    "        self.Z_ji = Z_ji\n",
    "\n",
    "    def __len__(self):\n",
    "        return len(self.Y_ji)#X_ji)\n",
    "\n",
    "    def __getitem__(self, idx):\n",
    "        return {\n",
    "            'Y_ji':  torch.tensor(np.array(self.Y_ji[idx]), dtype=torch.float32),\n",
    "            'X_ji': torch.tensor(np.array(self.X_ji[idx]), dtype=torch.float32),\n",
    "            'C_j': torch.tensor(np.array(self.C_j[idx]), dtype=torch.float32),\n",
    "            'Z_ji': torch.tensor(np.array(self.Z_ji[idx]), dtype=torch.float32)\n",
    "        }"
   ]
  },
  {
   "cell_type": "code",
   "execution_count": 16,
   "metadata": {},
   "outputs": [
    {
     "name": "stdout",
     "output_type": "stream",
     "text": [
      "300400\n"
     ]
    }
   ],
   "source": [
    "print(len(X_ji_windows))"
   ]
  },
  {
   "cell_type": "code",
   "execution_count": 17,
   "id": "5977e736",
   "metadata": {},
   "outputs": [],
   "source": [
    "dataset = CustomDataset(Y_ji_windows, X_ji_windows, C_j_windows, Z_ji_windows)\n",
    "\n",
    "trnset, valset, tstset = td.random_split(dataset, [0.1,0.01,0.89])\n",
    "\n",
    "trndl = DataLoader(trnset, batch_size=128, shuffle=True)\n",
    "tstdl = DataLoader(tstset, batch_size=128, shuffle=False)\n",
    "valdl = DataLoader(valset, batch_size=128, shuffle=False)"
   ]
  },
  {
   "cell_type": "code",
   "execution_count": 18,
   "id": "100d6dcf",
   "metadata": {},
   "outputs": [
    {
     "name": "stdout",
     "output_type": "stream",
     "text": [
      "235\n"
     ]
    }
   ],
   "source": [
    "# trnset * batch_size\n",
    "print(len(trndl))"
   ]
  },
  {
   "cell_type": "code",
   "execution_count": 19,
   "id": "2404f7d3",
   "metadata": {},
   "outputs": [
    {
     "name": "stdout",
     "output_type": "stream",
     "text": [
      "Model(\n",
      "  (fc1): Linear(in_features=2412, out_features=1500, bias=True)\n",
      "  (fc2): Linear(in_features=1500, out_features=500, bias=True)\n",
      "  (fc3): Linear(in_features=500, out_features=250, bias=True)\n",
      "  (fc4): Linear(in_features=250, out_features=1, bias=True)\n",
      "  (relu): LeakyReLU(negative_slope=0.01)\n",
      ")\n",
      "torch.Size([128, 1])\n",
      "Number of parameters: 4495501\n"
     ]
    },
    {
     "data": {
      "image/png": "[encoded data removed]",
      "text/plain": [
       "<Figure size 1000x600 with 1 Axes>"
      ]
     },
     "metadata": {},
     "output_type": "display_data"
    }
   ],
   "source": [
    "import torch.nn as nn\n",
    "import torch.nn.init as init\n",
    "\n",
    "class Model(nn.Module):\n",
    "    def __init__(self):\n",
    "       super(Model, self).__init__()\n",
    "       self.fc1 = nn.Linear(2412, 1500)\n",
    "       self.fc2 = nn.Linear(1500, 500)\n",
    "       self.fc3 = nn.Linear(500, 250)\n",
    "       self.fc4 = nn.Linear(250, 1)\n",
    "       self.relu = nn.LeakyReLU()\n",
    "       \n",
    "       # Initialize weights using He initialization for each linear layer\n",
    "       #init.kaiming_normal_(self.fc1.weight, mode='fan_in', nonlinearity='relu')\n",
    "       #init.kaiming_normal_(self.fc2.weight, mode='fan_in', nonlinearity='relu')\n",
    "       #init.kaiming_normal_(self.fc3.weight, mode='fan_in', nonlinearity='relu')\n",
    "       #init.kaiming_normal_(self.fc4.weight, mode='fan_in', nonlinearity='relu')\n",
    "\n",
    "    def forward(self, x):\n",
    "        x = x.view(x.size(0), -1)\n",
    "        x = self.relu(self.fc1(x))\n",
    "        x = self.relu(self.fc2(x))\n",
    "        x = self.relu(self.fc3(x))\n",
    "        x = torch.exp(self.fc4(x))#torch.exp(self.fc4(x)) # ensures all values are positive\n",
    "        return x\n",
    "\n",
    "# input size: [128, 12, 200]\n",
    "model = Model()\n",
    "print(model)\n",
    "\n",
    "arr = torch.randn((128, 12, 201))#12,200))\n",
    "print(model(arr).shape)\n",
    "nparm = sum(p.numel() for p in model.parameters() if p.requires_grad)\n",
    "print(\"Number of parameters: \" + str(nparm))\n",
    "\n",
    "output = model(arr)\n",
    "\n",
    "# Compute gradients\n",
    "output.mean().backward()\n",
    "\n",
    "# Plot gradients\n",
    "gradient_list = []\n",
    "parameter_names = []\n",
    "\n",
    "for name, param in model.named_parameters():\n",
    "    if param.grad is not None:\n",
    "        gradient_list.append(param.grad.norm().item())\n",
    "        parameter_names.append(name)\n",
    "\n",
    "plt.figure(figsize=(10, 6))\n",
    "plt.bar(parameter_names, gradient_list)\n",
    "plt.ylabel('Gradient Norm')\n",
    "plt.title('Gradients of Model Parameters')\n",
    "plt.xticks(rotation=45)\n",
    "plt.tight_layout()\n",
    "plt.show()"
   ]
  },
  {
   "cell_type": "code",
   "execution_count": 20,
   "id": "f03d0d71",
   "metadata": {},
   "outputs": [],
   "source": [
    "import torch.nn.functional as F\n",
    "\n",
    "class CustomLoss_1(nn.Module):\n",
    "    def __init__(self):\n",
    "        super(CustomLoss_1, self).__init__()\n",
    "\n",
    "    def forward(self, X_ji, C_j, Z_ji):\n",
    "        print(Z_ji)\n",
    "        epsilon = 1e-8\n",
    "        clipped_Z_ji = torch.clamp(Z_ji, epsilon)\n",
    "        loss = X_ji * torch.log(clipped_Z_ji) + C_j * torch.exp(-clipped_Z_ji)\n",
    "        # compute mean over batch to normalize due to varying batch sizes\n",
    "        return (loss).mean()"
   ]
  },
  {
   "cell_type": "code",
   "execution_count": 21,
   "id": "e9b67229",
   "metadata": {},
   "outputs": [],
   "source": [
    "from sklearn.neighbors import KernelDensity\n",
    "import torch.nn.functional as F\n",
    "\n",
    "class CustomLoss_2(nn.Module):\n",
    "    def __init__(self):\n",
    "        super(CustomLoss_2, self).__init__()\n",
    "\n",
    "    def forward(self, X_ji, C_j, Z_ji):\n",
    "        #print(Z_ji)\n",
    "        epsilon = 1e-8\n",
    "        Z_ji = torch.clamp(Z_ji, epsilon)\n",
    "        flat_Z_ji = Z_ji.view(-1)\n",
    "        min_value = torch.min(flat_Z_ji)\n",
    "        max_value = torch.max(flat_Z_ji)\n",
    "        uniform_distribution = torch.ones_like(Z_ji) / (max_value - min_value)\n",
    "        kde_Z_ji = torch.zeros_like(Z_ji, dtype=torch.float32)\n",
    "        kde = KernelDensity(kernel='gaussian', bandwidth=\"silverman\")#0.5)\n",
    "        for i in range(Z_ji.shape[0]):\n",
    "            sample = Z_ji[i].detach().numpy().reshape(-1, 1)  # Reshape to (200, 1)\n",
    "            kde.fit(sample)\n",
    "            kde_estimates = torch.exp(torch.tensor(kde.score_samples(sample), dtype=torch.float32))\n",
    "            kde_Z_ji[i] = kde_estimates.squeeze()\n",
    "            \n",
    "        #kde = KernelDensity(kernel='gaussian', bandwidth=0.5)\n",
    "        #kde.fit((Z_ji).detach().numpy())\n",
    "        #kde_Z_ji = torch.exp(torch.tensor(kde.score_samples(Z_ji.detach().numpy()), dtype=torch.float32))\n",
    "        weights = uniform_distribution / kde_Z_ji.unsqueeze(1)\n",
    "        loss = X_ji * torch.log(Z_ji) + C_j * torch.exp(-Z_ji)\n",
    "        # compute mean over batch to normalize due to varying batch sizes\n",
    "        return (weights*loss).mean()"
   ]
  },
  {
   "cell_type": "code",
   "execution_count": 22,
   "id": "32c52119",
   "metadata": {},
   "outputs": [],
   "source": [
    "from sklearn.neighbors import KernelDensity\n",
    "\n",
    "class CustomLoss(nn.Module):\n",
    "    def __init__(self):\n",
    "        super(CustomLoss, self).__init__()\n",
    "\n",
    "    def forward(self, X_ji, C_j, Z_ji):\n",
    "        epsilon = 1e-8\n",
    "        #print(\"Z_ji\")\n",
    "        #print(Z_ji)\n",
    "        #kde = KernelDensity(kernel='gaussian', bandwidth=0.5)#bandwidth=\"silverman\")\n",
    "        #kde.fit((Z_ji).detach().numpy())\n",
    "        #kde_Z_ji = torch.exp(torch.tensor(kde.score_samples(Z_ji.detach().numpy()), dtype=torch.float32))\n",
    "        kde_X_ji = torch.zeros_like(X_ji, dtype=torch.float32)\n",
    "        kde = KernelDensity(kernel='gaussian', bandwidth=0.5)#\"silverman\")\n",
    "        for i in range(X_ji.shape[0]):\n",
    "            sample = X_ji[i].detach().numpy().reshape(-1, 1)  # Reshape to (200, 1)\n",
    "            kde.fit(sample)\n",
    "            kde_estimates = torch.exp(torch.tensor(kde.score_samples(sample), dtype=torch.float32))\n",
    "            kde_X_ji[i] = kde_estimates.squeeze()\n",
    "        min_value = torch.min(kde_X_ji)\n",
    "        max_value = torch.max(kde_X_ji)\n",
    "\n",
    "        # Normalize the KDE values to the range [0, 1]\n",
    "        normalized_kde_values = (kde_X_ji - min_value) / (max_value - min_value)\n",
    "        weights = 1 - (0.9 * normalized_kde_values)\n",
    "        weights = torch.clamp(weights, epsilon)\n",
    "        weights_sum = torch.sum(weights)\n",
    "        normalized_weights = weights / weights_sum\n",
    "        epsilon = 1e-8\n",
    "        Z_ji = torch.clamp(Z_ji, epsilon)\n",
    "        loss = X_ji * torch.log(Z_ji) + C_j * torch.exp(-Z_ji)\n",
    "        #print(\"loss\")\n",
    "        #print(loss)\n",
    "        #print(\"weights\")\n",
    "        #print(normalized_weights)\n",
    "        # compute mean over batch to normalize due to varying batch sizes\n",
    "        return (normalized_weights*loss).mean()\n"
   ]
  },
  {
   "cell_type": "code",
   "execution_count": 23,
   "id": "422082b0",
   "metadata": {},
   "outputs": [],
   "source": [
    "def plot_data(targets, outputs):\n",
    "    indices = range(len(targets))#[0]))\n",
    "\n",
    "    fig, axs = plt.subplots(3, 3, figsize=(15,15))\n",
    "    for i in range(3):\n",
    "        for j in range(3):\n",
    "            axs[i, j].scatter(indices, targets[i+j*3], s=5)\n",
    "            axs[i, j].scatter(indices, outputs.detach().numpy()[i+j*3], s=5)\n",
    "            axs[i, j].set_ylim(-0.25, 1.3)\n",
    "\n",
    "    plt.xlabel('Index')\n",
    "    plt.ylabel('Elongation Rates')\n",
    "    plt.legend(['GLM Elongation Rate', 'NN Elongation Rate'], loc='upper center', bbox_to_anchor=(0.5, -0.6))\n"
   ]
  },
  {
   "cell_type": "code",
   "execution_count": 30,
   "id": "6c28ed03",
   "metadata": {},
   "outputs": [
    {
     "name": "stdout",
     "output_type": "stream",
     "text": [
      "Epoch 1\n",
      "Epoch 1 trn_loss: 0.00000000487082652785\n",
      "Epoch 2\n",
      "Epoch 2 trn_loss: 0.00000000487191737936\n",
      "Epoch 3\n",
      "Epoch 3 trn_loss: 0.00000000486610959510\n",
      "Epoch 4\n",
      "Epoch 4 trn_loss: 0.00000000486394226283\n",
      "Epoch 5\n",
      "Epoch 5 trn_loss: 0.00000000486378855475\n",
      "Epoch 6\n",
      "Epoch 6 trn_loss: 0.00000000486715142484\n",
      "Epoch 7\n",
      "Epoch 7 trn_loss: 0.00000000487123898041\n",
      "Epoch 8\n",
      "Epoch 8 trn_loss: 0.00000000486898559110\n",
      "Epoch 9\n",
      "Epoch 9 trn_loss: 0.00000000486827861432\n",
      "Epoch 10\n",
      "Epoch 10 trn_loss: 0.00000000486473480561\n"
     ]
    }
   ],
   "source": [
    "import torch.optim as optim\n",
    "import torch.optim.lr_scheduler as lr_scheduler\n",
    "\n",
    "optimizer = optim.Adam(model.parameters(), lr=0.001)\n",
    "\n",
    "scheduler = lr_scheduler.StepLR(optimizer, step_size=30, gamma=0.1)\n",
    "\n",
    "model = Model()\n",
    "\n",
    "num_epochs = 10#50\n",
    "\n",
    "loss_hist_train = [0] * num_epochs\n",
    "loss_hist_valid = [0] * num_epochs\n",
    "\n",
    "loss_fn = CustomLoss()#nn.L1Loss()#nn.MSELoss()\n",
    "\n",
    "for epoch in range(num_epochs):\n",
    "    print(f'Epoch {epoch+1}')\n",
    "    model.train()\n",
    "    for batch in trndl:\n",
    "        optimizer.zero_grad()\n",
    "        Y_ji_batch = batch['Y_ji']\n",
    "        X_ji_batch = batch['X_ji']\n",
    "        C_j_batch = batch['C_j']\n",
    "        outputs = model(Y_ji_batch)\n",
    "        loss = loss_fn(X_ji_batch, C_j_batch, outputs)\n",
    "        #loss = loss_fn(batch['Z_ji'], outputs)\n",
    "        loss.backward()\n",
    "        optimizer.step()\n",
    "        loss_hist_train[epoch] += loss.item()\n",
    "        #if epoch == 49:\n",
    "         #   plot_data(batch['Z_ji'], outputs)\n",
    "    loss_hist_train[epoch] /= len(trndl.dataset)\n",
    "    scheduler.step()\n",
    "    \n",
    "    #model.eval()\n",
    "    #with torch.no_grad():\n",
    "    #    for batch in valdl:\n",
    "    #        Y_ji_batch = batch['Y_ji']\n",
    "    #        X_ji_batch = batch['X_ji']\n",
    "    #        C_j_batch = batch['C_j']\n",
    "    #        outputs = model(Y_ji_batch)\n",
    "    #        loss = loss_fn(X_ji_batch, C_j_batch, outputs)\n",
    "            #loss = loss_fn(batch['Z_ji'], outputs)\n",
    "    #        loss_hist_valid[epoch] += loss.item()\n",
    "    #    loss_hist_valid[epoch] /= len(valdl.dataset)\n",
    "    \n",
    "    print(f'Epoch {epoch+1} trn_loss: '\n",
    "          f'{loss_hist_train[epoch]:.20f}')# val_loss: '\n",
    "          #f'{loss_hist_valid[epoch]:.4f}')"
   ]
  },
  {
   "cell_type": "code",
   "execution_count": 24,
   "id": "a40e80d6",
   "metadata": {},
   "outputs": [],
   "source": [
    "torch.save(model.state_dict(), \"mlp_sliding_window_model.pth\")"
   ]
  },
  {
   "cell_type": "code",
   "execution_count": 25,
   "id": "f7ccfe52",
   "metadata": {},
   "outputs": [
    {
     "data": {
      "text/plain": [
       "<All keys matched successfully>"
      ]
     },
     "execution_count": 25,
     "metadata": {},
     "output_type": "execute_result"
    }
   ],
   "source": [
    "model.load_state_dict(torch.load(\"mlp_sliding_window_model.pth\"))"
   ]
  },
  {
   "cell_type": "code",
   "execution_count": 26,
   "id": "94841213",
   "metadata": {},
   "outputs": [
    {
     "ename": "NameError",
     "evalue": "name 'loss_hist_train' is not defined",
     "output_type": "error",
     "traceback": [
      "\u001b[0;31m---------------------------------------------------------------------------\u001b[0m",
      "\u001b[0;31mNameError\u001b[0m                                 Traceback (most recent call last)",
      "\u001b[1;32m/home/hassett/RNA_Transcription_NN/rna_transcription_mlp_windows.ipynb Cell 28\u001b[0m line \u001b[0;36m2\n\u001b[1;32m      <a href='vscode-notebook-cell://ssh-remote%2Bevolgen.cshl.edu/home/hassett/RNA_Transcription_NN/rna_transcription_mlp_windows.ipynb#X36sdnNjb2RlLXJlbW90ZQ%3D%3D?line=0'>1</a>\u001b[0m \u001b[39mfrom\u001b[39;00m \u001b[39mmatplotlib\u001b[39;00m \u001b[39mimport\u001b[39;00m pyplot \u001b[39mas\u001b[39;00m plt\n\u001b[0;32m----> <a href='vscode-notebook-cell://ssh-remote%2Bevolgen.cshl.edu/home/hassett/RNA_Transcription_NN/rna_transcription_mlp_windows.ipynb#X36sdnNjb2RlLXJlbW90ZQ%3D%3D?line=1'>2</a>\u001b[0m epochs \u001b[39m=\u001b[39m \u001b[39mrange\u001b[39m(\u001b[39m1\u001b[39m, \u001b[39mlen\u001b[39m(loss_hist_train) \u001b[39m+\u001b[39m \u001b[39m1\u001b[39m)\n\u001b[1;32m      <a href='vscode-notebook-cell://ssh-remote%2Bevolgen.cshl.edu/home/hassett/RNA_Transcription_NN/rna_transcription_mlp_windows.ipynb#X36sdnNjb2RlLXJlbW90ZQ%3D%3D?line=2'>3</a>\u001b[0m plt\u001b[39m.\u001b[39mplot(epochs, loss_hist_train, label\u001b[39m=\u001b[39m\u001b[39m'\u001b[39m\u001b[39mtrain_loss\u001b[39m\u001b[39m'\u001b[39m)\n\u001b[1;32m      <a href='vscode-notebook-cell://ssh-remote%2Bevolgen.cshl.edu/home/hassett/RNA_Transcription_NN/rna_transcription_mlp_windows.ipynb#X36sdnNjb2RlLXJlbW90ZQ%3D%3D?line=3'>4</a>\u001b[0m plt\u001b[39m.\u001b[39mplot(epochs, loss_hist_valid, label\u001b[39m=\u001b[39m\u001b[39m'\u001b[39m\u001b[39mvalid_loss\u001b[39m\u001b[39m'\u001b[39m)\n",
      "\u001b[0;31mNameError\u001b[0m: name 'loss_hist_train' is not defined"
     ]
    }
   ],
   "source": [
    "from matplotlib import pyplot as plt\n",
    "epochs = range(1, len(loss_hist_train) + 1)\n",
    "plt.plot(epochs, loss_hist_train, label='train_loss')\n",
    "plt.plot(epochs, loss_hist_valid, label='valid_loss')\n",
    "\n",
    "plt.xlabel('Epochs')\n",
    "plt.ylabel('Loss')\n",
    "plt.legend()\n",
    "plt.show "
   ]
  },
  {
   "cell_type": "code",
   "execution_count": 31,
   "id": "7239c5d6",
   "metadata": {},
   "outputs": [
    {
     "name": "stdout",
     "output_type": "stream",
     "text": [
      "[0.925634509937596, 0.926355765607882, 0.927077435774806, 0.927799447423676, 0.928521619338566, 0.929243909074127, 0.929966206372222, 0.930688313277454, 0.931410210185511, 0.932131783780025, 0.932852925950873, 0.933573555910864, 0.934293541340124, 0.935012790994746, 0.772677364958486, 0.936448602136156, 0.937164954043454, 0.937880131662011, 0.938594032063029, 0.939306556524647, 0.940017600660797, 0.940727063907469, 0.941434846755665, 0.942140900878425, 0.942845080543211, 0.943547289629761, 0.944247458535066, 0.944945464975962, 0.945641215577509, 0.946334636669673, 0.947025615080406, 0.947714063977334, 0.94839982958302, 0.949082892959954, 0.94976316190685, 0.950440554644898, 0.951114984088754, 0.951786406814957, 0.952454706039358, 0.78703596686167, 0.953781644759594, 0.954440134400499, 0.95509519169426, 0.955746746154993, 0.956394722185857, 0.957039049174317, 0.957679620251572, 0.958316404132692, 0.958949333422898, 0.959578405049989, 0.960203494053218, 0.960824539406058, 0.961441481734899, 0.962054263335031, 0.962662866186705, 0.963267065533811, 0.963866937174755, 0.964462430072656, 0.965053494923118, 0.96564008416564, 0.966222159613851, 0.966799669926513, 0.967372571870538, 0.967940786360597, 0.96850428154894, 0.969063050233404, 0.969617056098088, 0.801112033073773, 0.970710632603349, 0.971250150326783, 0.971784783161494, 0.972314505003372, 0.803319282922764, 0.973359119936024, 0.973873974363985, 0.97438383153997, 0.974888675250598, 0.975388558693704, 0.975883396529393, 0.976373256969223, 0.976858053521857, 0.97733777826568, 0.97781242518965, 0.978281981983554, 0.97874639649786, 0.979205722854109, 0.979659961925391, 0.980109116319623, 0.980553190367963, 0.980992224013204, 0.981426189789662, 0.981855097168987, 0.982278957288922, 0.982697782940422, 0.983111588550782, 0.983520303061709, 0.983924035296473, 0.984322801364908, 0.984716623020305, 0.985105516482665, 0.985489512320967, 0.985868600162752, 0.986242840886984, 0.986612204952619, 0.986976777599729, 0.987336580287126, 0.987691654513909, 0.98804212450512, 0.98838793114658, 0.988729110850122, 0.989065692061286, 0.989397694938745, 0.98972518789495, 0.990048212737713, 0.990366761854866, 0.990680923776137, 0.818307799325609, 0.991296289822908, 0.991597585998434, 0.991894688007855, 0.992187644623716, 0.992476505572641, 0.99276132150257, 0.993042143949584, 0.993319025304354, 0.993592018778212, 0.993861121319276, 0.994126446941917, 0.994388051031692, 0.994645989658415, 0.99490026779237, 0.995151002782215, 0.995398236858704, 0.995642033371955, 0.995882451193369, 0.996119549657595, 0.996353563172323, 0.996584384440995, 0.99681217896069, 0.997036901357449, 0.997258610749376, 0.997477368915824, 0.997693237841469, 0.99790627967864, 0.998116556709563, 0.99832413130855, 0.998529065904148, 0.998731422941256, 0.824864655883669, 0.999128653973994, 0.999323652600177, 0.999516322853267, 0.999706722697922, 0.999894918031702, 1.00008097034857, 1.00026494085687, 1.00044689044191, 1.00062687962865, 1.00080504535928, 1.00098137367048, 1.00115592363968, 1.00132881974029, 1.00150005236006, 1.00166967931455, 1.00183775780426, 1.00200446427787, 1.00216967421228, 1.0023335109081, 1.00249602885422, 1.00265727836021, 1.002817315854, 1.0029761933791, 1.00313396209877, 1.00329067226322, 1.00344637734671, 1.00360112192437, 1.00375495318981, 1.0039079175646, 1.00406005739032, 1.00421141976549, 1.00436204041934, 1.00451196812256, 1.00466124268827, 1.00480990435497, 1.00495799127762, 1.00510554033867, 1.00525258497521, 1.00539910938084, 1.00554519651484, 1.0056908779183, 1.00583612960338, 1.00598103734248, 1.00612572615992, 1.00627012674605, 1.00641426278879, 1.00655815767668, 1.00670181913765, 1.00684535626039, 1.00698871503096, 1.0071319624474]\n",
      "[0.9798901677131653, 0.9826539158821106, 0.9821348190307617, 0.983035147190094, 0.9833083748817444, 0.9826145768165588, 0.9820276498794556, 0.9820857644081116, 0.9814622402191162, 0.9834588170051575, 0.9840630292892456, 0.9851670861244202, 0.9839219450950623, 0.9846434593200684, 0.9843589067459106, 0.9846882224082947, 0.9842732548713684, 0.9833688735961914, 0.9872794151306152, 0.9849720001220703, 0.9849280118942261, 0.9867857694625854, 0.9860745072364807, 0.9855003952980042, 0.9844045639038086, 0.9855708479881287, 0.984715461730957, 0.9826319813728333, 0.9826059341430664, 0.9847736954689026, 0.9843865633010864, 0.9845831990242004, 0.984504759311676, 0.9857787489891052, 0.9845267534255981, 0.9852601885795593, 0.9849580526351929, 0.9863264560699463, 0.9856394529342651, 0.9840174913406372, 0.9834094047546387, 0.9837608337402344, 0.9840524792671204, 0.9843787550926208, 0.9839858412742615, 0.9847109317779541, 0.9863332509994507, 0.9853783249855042, 0.9850314855575562, 0.9857113361358643, 0.9895085692405701, 0.9873942732810974, 0.9871046543121338, 0.9882802963256836, 0.990443229675293, 0.9892667531967163, 0.9879191517829895, 0.9868707656860352, 0.9854394793510437, 0.9863047003746033, 0.9882028102874756, 0.9870021343231201, 0.9888871908187866, 0.9883426427841187, 0.988121747970581, 0.9908568859100342, 0.9915002584457397, 0.9885580539703369, 0.990942120552063, 0.9903402328491211, 0.9918919801712036, 0.9911375641822815, 0.9921263456344604, 0.9905871748924255, 0.991934061050415, 0.9934998154640198, 0.9897304177284241, 0.9908317923545837, 0.9900367856025696, 0.992185115814209, 0.9932711124420166, 0.9915286898612976, 0.99143385887146, 0.9918408393859863, 0.992017388343811, 0.9913458228111267, 0.991821825504303, 0.9906163811683655, 0.994114339351654, 0.9939193725585938, 0.9934565424919128, 0.9960116147994995, 0.9964019060134888, 0.9962320923805237, 0.9976074695587158, 0.9969097971916199, 0.9949052333831787, 0.9966341853141785, 0.9948800206184387, 0.9938211441040039, 0.9958903789520264, 0.9925428628921509, 0.9954450130462646, 0.9958193898200989, 0.9950382113456726, 0.9935871958732605, 0.9948076009750366, 0.9963534474372864, 0.9955658316612244, 0.995945930480957, 0.9947723150253296, 0.9941816329956055, 0.9952724575996399, 0.9949881434440613, 0.9948128461837769, 0.9928115606307983, 0.9938299059867859, 0.9906466603279114, 0.9931139349937439, 0.9934656023979187, 0.9935336709022522, 0.992152988910675, 0.9931741952896118, 0.9926079511642456, 0.9931996464729309, 0.9922627806663513, 0.9914554953575134, 0.9927534461021423, 0.9892235994338989, 0.9920846223831177, 0.9942708015441895, 0.9934013485908508, 0.9947067499160767, 0.9948791265487671, 0.9966668486595154, 0.9957197308540344, 0.9972618818283081, 0.9962921142578125, 0.9983196258544922, 0.9951121807098389, 0.9939432144165039, 0.993640661239624, 0.9949231147766113, 0.993412435054779, 0.9934244155883789, 0.9935059547424316, 0.9933439493179321, 0.9962514042854309, 0.9923868179321289, 0.9914783835411072, 0.99223393201828, 0.9900354743003845, 0.9936718344688416, 0.9935541152954102, 0.9942634701728821, 0.9922724366188049, 0.992964506149292, 0.9930037260055542, 0.990537166595459, 0.989688515663147, 0.9904281497001648, 0.9901559948921204, 0.9884781837463379, 0.9901367425918579, 0.9914736747741699, 0.9917332530021667, 0.9944887161254883, 0.9923688769340515, 0.9941314458847046, 0.9936951994895935, 0.9937101602554321, 0.9924792647361755, 0.990143358707428, 0.9906582832336426, 0.9915404319763184, 0.9923070073127747, 0.9904536604881287, 0.9920212030410767, 0.9885445237159729, 0.9891780614852905, 0.9883387088775635, 0.9879530668258667, 0.9875769019126892, 0.989086389541626, 0.9897110462188721, 0.9885626435279846, 0.987273097038269, 0.9880717396736145, 0.9875820279121399, 0.9872486591339111, 0.9881309270858765, 0.9875711798667908, 0.9893530607223511, 0.990038275718689, 0.9904398918151855, 0.9913392066955566, 0.9926814436912537, 0.9927907586097717, 0.9923478960990906, 0.9923259019851685]\n"
     ]
    },
    {
     "data": {
      "image/png": "[encoded data removed]",
      "text/plain": [
       "<Figure size 640x480 with 1 Axes>"
      ]
     },
     "metadata": {},
     "output_type": "display_data"
    }
   ],
   "source": [
    "model.eval()\n",
    "\n",
    "y_test = [Y_ji[2]]\n",
    "\n",
    "Y_ji_test_windows = sliding_window_multi_feature(y_test, 201)\n",
    "\n",
    "with torch.no_grad():\n",
    "    outputs = model(torch.Tensor(Y_ji_test_windows))\n",
    "    \n",
    "outputs = outputs.view(-1).tolist()\n",
    "print(Z_ji[2])\n",
    "print(outputs)\n",
    "z_values = np.array(range(1, len(outputs) + 1))\n",
    "\n",
    "plt.plot(z_values, outputs, label=\"predictions\")\n",
    "plt.plot(z_values, Z_ji[2], label=\"simulation\")\n",
    "\n",
    "plt.xlabel('Sites')\n",
    "plt.ylabel('Elongation Rates')\n",
    "plt.legend()\n",
    "plt.show()"
   ]
  },
  {
   "cell_type": "code",
   "execution_count": 39,
   "id": "7dbf0b10",
   "metadata": {},
   "outputs": [
    {
     "name": "stdout",
     "output_type": "stream",
     "text": [
      "number of samples: 4\n",
      "tensor([[1.0667],\n",
      "        [1.0228],\n",
      "        [1.0309],\n",
      "        [1.1340],\n",
      "        [1.0519],\n",
      "        [1.0712],\n",
      "        [1.0325],\n",
      "        [1.0405],\n",
      "        [1.0488],\n",
      "        [1.0939],\n",
      "        [1.0306],\n",
      "        [1.1207],\n",
      "        [1.1336],\n",
      "        [1.0446],\n",
      "        [1.0324],\n",
      "        [1.0611],\n",
      "        [1.0536],\n",
      "        [1.0426],\n",
      "        [1.0444],\n",
      "        [1.0424],\n",
      "        [1.0403],\n",
      "        [1.0559],\n",
      "        [1.0378],\n",
      "        [1.0458],\n",
      "        [1.1620],\n",
      "        [1.0955],\n",
      "        [1.0465],\n",
      "        [1.0624],\n",
      "        [1.0324],\n",
      "        [1.0270],\n",
      "        [1.0742],\n",
      "        [1.0391],\n",
      "        [1.0498],\n",
      "        [1.0780],\n",
      "        [1.0222],\n",
      "        [1.0463],\n",
      "        [1.0566],\n",
      "        [1.0590],\n",
      "        [1.0351],\n",
      "        [1.0622],\n",
      "        [1.0404],\n",
      "        [1.0331],\n",
      "        [1.0675],\n",
      "        [1.0653],\n",
      "        [1.0675],\n",
      "        [1.0461],\n",
      "        [1.0383],\n",
      "        [1.0186],\n",
      "        [1.0468],\n",
      "        [1.0283],\n",
      "        [1.0663],\n",
      "        [1.0505],\n",
      "        [1.0359],\n",
      "        [1.0587],\n",
      "        [1.0512],\n",
      "        [1.0436],\n",
      "        [1.0269],\n",
      "        [1.0337],\n",
      "        [1.0477],\n",
      "        [1.0367],\n",
      "        [1.1348],\n",
      "        [1.0385],\n",
      "        [1.1430],\n",
      "        [1.0412],\n",
      "        [1.0335],\n",
      "        [1.0496],\n",
      "        [1.0378],\n",
      "        [1.0938],\n",
      "        [1.0376],\n",
      "        [1.0320],\n",
      "        [1.0654],\n",
      "        [1.0655],\n",
      "        [1.0358],\n",
      "        [1.0420],\n",
      "        [1.0286],\n",
      "        [1.0473],\n",
      "        [1.0312],\n",
      "        [1.0355],\n",
      "        [1.0319],\n",
      "        [1.0287],\n",
      "        [1.0345],\n",
      "        [1.0410],\n",
      "        [1.0289],\n",
      "        [1.0284],\n",
      "        [1.0287],\n",
      "        [1.0877],\n",
      "        [1.0333],\n",
      "        [1.0356],\n",
      "        [1.0765],\n",
      "        [1.1090],\n",
      "        [1.1360],\n",
      "        [1.0508],\n",
      "        [0.9991],\n",
      "        [1.0396],\n",
      "        [1.0357],\n",
      "        [1.0316],\n",
      "        [1.0505],\n",
      "        [1.0624],\n",
      "        [1.0363],\n",
      "        [1.0619],\n",
      "        [1.0335],\n",
      "        [1.0404],\n",
      "        [1.0417],\n",
      "        [1.0414],\n",
      "        [1.0450],\n",
      "        [1.0782],\n",
      "        [1.0562],\n",
      "        [1.0260],\n",
      "        [1.0610],\n",
      "        [1.0714],\n",
      "        [1.0265],\n",
      "        [1.0444],\n",
      "        [1.0711],\n",
      "        [1.0365],\n",
      "        [1.0974],\n",
      "        [1.0571],\n",
      "        [1.0461],\n",
      "        [1.0321],\n",
      "        [1.0232],\n",
      "        [1.0610],\n",
      "        [1.0345],\n",
      "        [1.0414],\n",
      "        [1.0306],\n",
      "        [1.0449],\n",
      "        [1.0509],\n",
      "        [1.0355],\n",
      "        [1.0471],\n",
      "        [1.0292]])\n",
      "tensor([[0.0000, 0.0000, 0.0000,  ..., 0.9600, 0.9594, 0.9588],\n",
      "        [0.0000, 0.0000, 0.0000,  ..., 0.9662, 0.9667, 0.9673],\n",
      "        [0.0000, 0.0000, 0.0000,  ..., 0.8966, 0.8948, 0.8929],\n",
      "        ...,\n",
      "        [1.0385, 1.0388, 1.0391,  ..., 0.0000, 0.0000, 0.0000],\n",
      "        [0.9566, 0.9553, 0.9541,  ..., 0.0000, 0.0000, 0.0000],\n",
      "        [1.0670, 1.0675, 1.0679,  ..., 0.0000, 0.0000, 0.0000]])\n",
      "torch.Size([128, 201])\n",
      "torch.Size([128, 1])\n"
     ]
    }
   ],
   "source": [
    "\n",
    "inputs = next(iter(tstdl))#tstdl)) \n",
    "print(\"number of samples: \" + str(len(inputs)))\n",
    "\n",
    "with torch.no_grad():\n",
    "    outputs = model(inputs['Y_ji'])#'Y_ji'])\n",
    "    \n",
    "#outputs = torch.exp(outputs)\n",
    "print(outputs)\n",
    "\n",
    "targets = inputs['Z_ji']\n",
    "print(targets)\n",
    "\n",
    "print(targets.shape)\n",
    "print(outputs.shape)\n",
    "\n",
    "#plot_data(targets, outputs)\n",
    "\n",
    "#for batch in trndl:\n",
    "#    targets = inputs['Z_ji']\n",
    "#    outputs = model(inputs['X_ji'])#'Y_ji'])\n",
    "#    outputs = torch.exp(outputs)\n",
    "    \n",
    "#    plot_data(targets, outputs)"
   ]
  }
 ],
 "metadata": {
  "kernelspec": {
   "display_name": "Python 3 (ipykernel)",
   "language": "python",
   "name": "python3"
  },
  "language_info": {
   "codemirror_mode": {
    "name": "ipython",
    "version": 3
   },
   "file_extension": ".py",
   "mimetype": "text/x-python",
   "name": "python",
   "nbconvert_exporter": "python",
   "pygments_lexer": "ipython3",
   "version": "3.8.17"
  }
 },
 "nbformat": 4,
 "nbformat_minor": 5
}

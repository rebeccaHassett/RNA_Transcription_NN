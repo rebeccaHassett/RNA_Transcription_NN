{
 "cells": [
  {
   "cell_type": "code",
   "execution_count": 1,
   "id": "35ba1335",
   "metadata": {},
   "outputs": [],
   "source": [
    "import numpy as np\n",
    "import pandas as pd\n",
    "import torch\n",
    "import torch.utils.data as td\n",
    "from torch.utils.data import DataLoader, Dataset\n",
    "import matplotlib.pyplot as plt\n",
    "import matplotlib.colors as colors\n",
    "\n",
    "froot = './data/k562_main'\n",
    "\n",
    "df = pd.read_csv(froot + \".csv\")"
   ]
  },
  {
   "cell_type": "code",
   "execution_count": 2,
   "id": "25c67eaa",
   "metadata": {},
   "outputs": [
    {
     "name": "stdout",
     "output_type": "stream",
     "text": [
      "   seqnames    start      end strand  ensembl_gene_id  score      ctcf  \\\n",
      "0         1  3859709  3859709      +  ENSG00000169598    0.0 -0.010876   \n",
      "1         1  3859710  3859710      +  ENSG00000169598    0.0 -0.010887   \n",
      "2         1  3859711  3859711      +  ENSG00000169598    0.0 -0.010902   \n",
      "3         1  3859712  3859712      +  ENSG00000169598    0.0 -0.010920   \n",
      "4         1  3859713  3859713      +  ENSG00000169598    0.0 -0.010941   \n",
      "\n",
      "   h3k36me3   h3k4me1  h3k79me2  ...       sj3       dms      rpts  wgbs  \\\n",
      "0  0.353765 -0.078256 -0.156547  ... -0.057178 -0.307549  0.249626   0.0   \n",
      "1  0.347003 -0.077117 -0.155891  ... -0.057178 -0.307549  0.249626   0.0   \n",
      "2  0.340295 -0.075994 -0.155236  ... -0.057178 -0.307549  0.249626   0.0   \n",
      "3  0.333641 -0.074887 -0.154583  ... -0.057178 -0.307549  0.249626   0.0   \n",
      "4  0.327043 -0.073795 -0.153930  ... -0.057178 -0.307549  0.249626   0.0   \n",
      "\n",
      "       A         T         G         C  lambda_alphaj      zeta  \n",
      "0 -0.625 -0.678443  1.954571 -0.494439       0.014335  0.932859  \n",
      "1 -0.625 -0.678443  1.954571 -0.494439       0.014335  0.933402  \n",
      "2 -0.625  1.473964 -0.511621 -0.494439       0.014335  0.933944  \n",
      "3 -0.625  1.473964 -0.511621 -0.494439       0.014335  0.934485  \n",
      "4 -0.625 -0.678443  1.954571 -0.494439       0.014335  0.935024  \n",
      "\n",
      "[5 rows x 24 columns]\n"
     ]
    }
   ],
   "source": [
    "print(df.head())"
   ]
  },
  {
   "cell_type": "code",
   "execution_count": 3,
   "id": "7b54d1bf",
   "metadata": {},
   "outputs": [],
   "source": [
    "df['gene_length'] = df.groupby('ensembl_gene_id')['ensembl_gene_id'].transform('count')"
   ]
  },
  {
   "cell_type": "code",
   "execution_count": 4,
   "id": "9a8abcdb",
   "metadata": {},
   "outputs": [
    {
     "name": "stdout",
     "output_type": "stream",
     "text": [
      "['ctcf', 'h3k36me3', 'h3k4me1', 'h3k79me2', 'h3k9me1', 'h3k9me3', 'h4k20me1', 'sj5', 'sj3', 'dms', 'rpts', 'wgbs']\n",
      "['A', 'T', 'G', 'C']\n"
     ]
    }
   ],
   "source": [
    "column_names = df.columns.tolist()\n",
    "feature_names = column_names[6:-7]\n",
    "nucleotides = column_names[-7:-3]\n",
    "print(feature_names)\n",
    "print(nucleotides)\n",
    "\n",
    "# process read counts\n",
    "X_ji = df.groupby('ensembl_gene_id')['score'].apply(list).tolist() \n",
    "\n",
    "# process GLM simulated elongation rates\n",
    "Z_ji = df.groupby('ensembl_gene_id')['zeta'].apply(list).tolist() \n",
    "\n",
    "num_samples = len(X_ji)"
   ]
  },
  {
   "cell_type": "code",
   "execution_count": 5,
   "id": "40cae20e",
   "metadata": {},
   "outputs": [
    {
     "name": "stdout",
     "output_type": "stream",
     "text": [
      "1502\n"
     ]
    }
   ],
   "source": [
    "print(num_samples)"
   ]
  },
  {
   "cell_type": "code",
   "execution_count": 7,
   "id": "ef3e2763",
   "metadata": {},
   "outputs": [],
   "source": [
    "def sliding_window(data, window_size):\n",
    "    data = np.array(data)  # Convert data to a NumPy array for efficient operations\n",
    "    num_sites = len(data)\n",
    "    \n",
    "    sub_sequences = []\n",
    "    \n",
    "    for i in range(num_sites):\n",
    "        start = i - window_size // 2\n",
    "        end = i + window_size // 2 + 1  # +1 to include the right edge\n",
    "        \n",
    "        # Ensure that the window is within the bounds of the sequence\n",
    "        if start < 0:\n",
    "            padding_start = abs(start)\n",
    "            start = 0\n",
    "        else:\n",
    "            padding_start = 0\n",
    "        \n",
    "        if end > num_sites:\n",
    "            padding_end = end - num_sites\n",
    "            end = num_sites\n",
    "        else:\n",
    "            padding_end = 0\n",
    "        \n",
    "        window = data[start:end]\n",
    "        \n",
    "        # Pad the window if necessary\n",
    "        if padding_start > 0 or padding_end > 0:\n",
    "            window = np.pad(window, (padding_start, padding_end), mode='constant')\n",
    "        \n",
    "        sub_sequences.append(window)\n",
    "    \n",
    "    return sub_sequences\n",
    "\n",
    "window_size = 201  # 100 sites to the left, 100 sites to the right, and the target site"
   ]
  },
  {
   "cell_type": "code",
   "execution_count": null,
   "id": "3ecb3e28",
   "metadata": {},
   "outputs": [],
   "source": [
    "X_ji_windows = []\n",
    "for seq in X_ji:\n",
    "    x_windows = sliding_window(seq, window_size)\n",
    "    X_ji_windows.extend(x_windows)"
   ]
  },
  {
   "cell_type": "code",
   "execution_count": 13,
   "id": "4f77d389",
   "metadata": {},
   "outputs": [],
   "source": [
    "Z_ji_windows = []\n",
    "for seq in Z_ji:\n",
    "    z_windows = sliding_window(seq, window_size)\n",
    "    Z_ji_windows.extend(z_windows)"
   ]
  },
  {
   "cell_type": "code",
   "execution_count": 19,
   "id": "cffd98a0",
   "metadata": {},
   "outputs": [],
   "source": [
    "C_j = df.groupby('ensembl_gene_id')['lambda_alphaj'].apply(list).tolist() "
   ]
  },
  {
   "cell_type": "code",
   "execution_count": 28,
   "id": "195a1625",
   "metadata": {},
   "outputs": [],
   "source": [
    "C_j_windows = []\n",
    "for seq in C_j:\n",
    "    c_windows = sliding_window(seq, window_size)\n",
    "    C_j_windows.extend(c_windows)"
   ]
  },
  {
   "cell_type": "code",
   "execution_count": null,
   "id": "e396e7f2",
   "metadata": {},
   "outputs": [],
   "source": [
    "from sklearn.preprocessing import MinMaxScaler\n",
    "\n",
    "#Y_ji is a list of samples containing lists of their feature values\n",
    "    # [   \n",
    "    #   [[sample_1_feature_1], [sample_1_feature_2], [sample_1_feature_3]],\n",
    "    #   [[sample_2_feature_1], [sample_2_feature_2], [sample_2_feature_3]],  \n",
    "    # ]\n",
    "\n",
    "Y_ji = []\n",
    "\n",
    "for sample_id in df['ensembl_gene_id'].unique():\n",
    "    sample_data = [df[feature_name][df['ensembl_gene_id'] == sample_id].tolist() for feature_name in feature_names]\n",
    "    Y_ji.append(sample_data)"
   ]
  },
  {
   "cell_type": "code",
   "execution_count": null,
   "id": "7c660a52",
   "metadata": {},
   "outputs": [],
   "source": [
    "# normalize features\n",
    "scaler = MinMaxScaler()\n",
    "Y_ji = np.array(Y_ji)\n",
    "# reshape dataset to [num_samples, num_features * feature_length]\n",
    "Y_ji_reshaped = Y_ji.reshape(Y_ji.shape[0], -1)\n",
    "normalized_Y_ji_reshaped = scaler.fit_transform(Y_ji_reshaped)\n",
    "Y_ji = normalized_Y_ji_reshaped.reshape(Y_ji.shape)"
   ]
  },
  {
   "cell_type": "code",
   "execution_count": 29,
   "id": "35f18812",
   "metadata": {},
   "outputs": [],
   "source": [
    "from torch.utils.data import Dataset, DataLoader, TensorDataset\n",
    "\n",
    "class CustomDataset(Dataset):\n",
    "    def __init__(self, X_ji, C_j, Z_ji):\n",
    "        #self.Y_ji = Y_ji\n",
    "        self.X_ji = X_ji\n",
    "        self.C_j = C_j\n",
    "        self.Z_ji = Z_ji\n",
    "\n",
    "    def __len__(self):\n",
    "        return len(self.X_ji)\n",
    "\n",
    "    def __getitem__(self, idx):\n",
    "        return {\n",
    "            #'Y_ji':  torch.tensor(self.Y_ji[idx], dtype=torch.float32),\n",
    "            'X_ji': torch.tensor(self.X_ji[idx], dtype=torch.float32),\n",
    "            'C_j': torch.tensor(self.C_j[idx], dtype=torch.float32),\n",
    "            'Z_ji': torch.tensor(self.Z_ji[idx], dtype=torch.float32)\n",
    "        }"
   ]
  },
  {
   "cell_type": "code",
   "execution_count": 30,
   "id": "5977e736",
   "metadata": {},
   "outputs": [
    {
     "name": "stderr",
     "output_type": "stream",
     "text": [
      "/home/hassett/software/anaconda3/envs/cnn-motif/lib/python3.8/site-packages/torch/utils/data/dataset.py:348: UserWarning: Length of split at index 1 is 0. This might result in an empty dataset.\n",
      "  warnings.warn(f\"Length of split at index {i} is 0. \"\n"
     ]
    }
   ],
   "source": [
    "dataset = CustomDataset(X_ji, C_j, Z_ji)\n",
    "\n",
    "trnset, valset, tstset = td.random_split(dataset, [0.9,0,0.1])\n",
    "\n",
    "trndl = DataLoader(trnset, batch_size=16, shuffle=True)\n",
    "tstdl = DataLoader(tstset, batch_size=16, shuffle=False)\n",
    "valdl = DataLoader(valset, batch_size=16, shuffle=False)"
   ]
  },
  {
   "cell_type": "code",
   "execution_count": 31,
   "id": "2404f7d3",
   "metadata": {},
   "outputs": [
    {
     "name": "stdout",
     "output_type": "stream",
     "text": [
      "Model(\n",
      "  (fc1): Linear(in_features=201, out_features=150, bias=True)\n",
      "  (fc2): Linear(in_features=150, out_features=100, bias=True)\n",
      "  (fc3): Linear(in_features=100, out_features=50, bias=True)\n",
      "  (fc4): Linear(in_features=50, out_features=1, bias=True)\n",
      "  (relu): ReLU()\n",
      ")\n",
      "torch.Size([16, 1])\n",
      "Number of parameters: 50501\n"
     ]
    },
    {
     "data": {
      "image/png": "[encoded data removed]",
      "text/plain": [
       "<Figure size 1000x600 with 1 Axes>"
      ]
     },
     "metadata": {},
     "output_type": "display_data"
    }
   ],
   "source": [
    "import torch.nn as nn\n",
    "import torch.nn.init as init\n",
    "\n",
    "class Model(nn.Module):\n",
    "    def __init__(self):\n",
    "       super(Model, self).__init__()\n",
    "       self.fc1 = nn.Linear(201, 150)\n",
    "       self.fc2 = nn.Linear(150, 100)\n",
    "       self.fc3 = nn.Linear(100, 50)\n",
    "       self.fc4 = nn.Linear(50, 1)\n",
    "       self.relu = nn.ReLU()\n",
    "       \n",
    "       # Initialize weights using He initialization for each linear layer\n",
    "       init.kaiming_normal_(self.fc1.weight, mode='fan_in', nonlinearity='relu')\n",
    "       init.kaiming_normal_(self.fc2.weight, mode='fan_in', nonlinearity='relu')\n",
    "       init.kaiming_normal_(self.fc3.weight, mode='fan_in', nonlinearity='relu')\n",
    "       init.kaiming_normal_(self.fc4.weight, mode='fan_in', nonlinearity='relu')\n",
    "\n",
    "    def forward(self, x):\n",
    "        #x = x.view(x.size(0), -1)\n",
    "        x = self.relu(self.fc1(x))\n",
    "        x = self.relu(self.fc2(x))\n",
    "        x = self.relu(self.fc3(x))\n",
    "        x = torch.exp(self.fc4(x)) # ensures all values are positive\n",
    "        return x\n",
    "\n",
    "# input size: [16, 12, 200]\n",
    "model = Model()\n",
    "print(model)\n",
    "\n",
    "arr = torch.randn((16, 201))#12,200))\n",
    "print(model(arr).shape)\n",
    "nparm = sum(p.numel() for p in model.parameters() if p.requires_grad)\n",
    "print(\"Number of parameters: \" + str(nparm))\n",
    "\n",
    "output = model(arr)\n",
    "\n",
    "# Compute gradients\n",
    "output.mean().backward()\n",
    "\n",
    "# Plot gradients\n",
    "gradient_list = []\n",
    "parameter_names = []\n",
    "\n",
    "for name, param in model.named_parameters():\n",
    "    if param.grad is not None:\n",
    "        gradient_list.append(param.grad.norm().item())\n",
    "        parameter_names.append(name)\n",
    "\n",
    "plt.figure(figsize=(10, 6))\n",
    "plt.bar(parameter_names, gradient_list)\n",
    "plt.ylabel('Gradient Norm')\n",
    "plt.title('Gradients of Model Parameters')\n",
    "plt.xticks(rotation=45)\n",
    "plt.tight_layout()\n",
    "plt.show()"
   ]
  },
  {
   "cell_type": "code",
   "execution_count": 32,
   "id": "f03d0d71",
   "metadata": {},
   "outputs": [],
   "source": [
    "import torch.nn.functional as F\n",
    "\n",
    "class CustomLoss_1(nn.Module):\n",
    "    def __init__(self):\n",
    "        super(CustomLoss_1, self).__init__()\n",
    "\n",
    "    def forward(self, X_ji, C_j, Z_ji):\n",
    "        #print(Z_ji)\n",
    "        epsilon = 1e-8\n",
    "        clipped_Z_ji = torch.clamp(Z_ji, epsilon)\n",
    "        loss = X_ji * torch.log(clipped_Z_ji) + C_j * torch.exp(-clipped_Z_ji)\n",
    "        # compute mean over batch to normalize due to varying batch sizes\n",
    "        return (loss).mean()"
   ]
  },
  {
   "cell_type": "code",
   "execution_count": null,
   "id": "e9b67229",
   "metadata": {},
   "outputs": [],
   "source": [
    "from sklearn.neighbors import KernelDensity\n",
    "import torch.nn.functional as F\n",
    "\n",
    "class CustomLoss_2(nn.Module):\n",
    "    def __init__(self):\n",
    "        super(CustomLoss_2, self).__init__()\n",
    "\n",
    "    def forward(self, X_ji, C_j, Z_ji):\n",
    "        #print(Z_ji)\n",
    "        epsilon = 1e-8\n",
    "        Z_ji = torch.clamp(Z_ji, epsilon)\n",
    "        flat_Z_ji = Z_ji.view(-1)\n",
    "        min_value = torch.min(flat_Z_ji)\n",
    "        max_value = torch.max(flat_Z_ji)\n",
    "        uniform_distribution = torch.ones_like(Z_ji) / (max_value - min_value)\n",
    "        kde_Z_ji = torch.zeros_like(Z_ji, dtype=torch.float32)\n",
    "        kde = KernelDensity(kernel='gaussian', bandwidth=\"silverman\")#0.5)\n",
    "        for i in range(Z_ji.shape[0]):\n",
    "            sample = Z_ji[i].detach().numpy().reshape(-1, 1)  # Reshape to (200, 1)\n",
    "            kde.fit(sample)\n",
    "            kde_estimates = torch.exp(torch.tensor(kde.score_samples(sample), dtype=torch.float32))\n",
    "            kde_Z_ji[i] = kde_estimates.squeeze()\n",
    "            \n",
    "        #kde = KernelDensity(kernel='gaussian', bandwidth=0.5)\n",
    "        #kde.fit((Z_ji).detach().numpy())\n",
    "        #kde_Z_ji = torch.exp(torch.tensor(kde.score_samples(Z_ji.detach().numpy()), dtype=torch.float32))\n",
    "        weights = uniform_distribution / kde_Z_ji.unsqueeze(1)\n",
    "        loss = X_ji * torch.log(Z_ji) + C_j * torch.exp(-Z_ji)\n",
    "        # compute mean over batch to normalize due to varying batch sizes\n",
    "        return (weights*loss).mean()"
   ]
  },
  {
   "cell_type": "code",
   "execution_count": 33,
   "id": "32c52119",
   "metadata": {},
   "outputs": [],
   "source": [
    "from sklearn.neighbors import KernelDensity\n",
    "\n",
    "class CustomLoss(nn.Module):\n",
    "    def __init__(self):\n",
    "        super(CustomLoss, self).__init__()\n",
    "\n",
    "    def forward(self, X_ji, C_j, Z_ji):\n",
    "        epsilon = 1e-8\n",
    "        #print(\"Z_ji\")\n",
    "        #print(Z_ji)\n",
    "        #kde = KernelDensity(kernel='gaussian', bandwidth=0.5)#bandwidth=\"silverman\")\n",
    "        #kde.fit((Z_ji).detach().numpy())\n",
    "        #kde_Z_ji = torch.exp(torch.tensor(kde.score_samples(Z_ji.detach().numpy()), dtype=torch.float32))\n",
    "        kde_X_ji = torch.zeros_like(X_ji, dtype=torch.float32)\n",
    "        kde = KernelDensity(kernel='gaussian', bandwidth=0.5)#\"silverman\")\n",
    "        for i in range(X_ji.shape[0]):\n",
    "            sample = X_ji[i].detach().numpy().reshape(-1, 1)  # Reshape to (200, 1)\n",
    "            kde.fit(sample)\n",
    "            kde_estimates = torch.exp(torch.tensor(kde.score_samples(sample), dtype=torch.float32))\n",
    "            kde_X_ji[i] = kde_estimates.squeeze()\n",
    "        min_value = torch.min(kde_X_ji)\n",
    "        max_value = torch.max(kde_X_ji)\n",
    "\n",
    "        # Normalize the KDE values to the range [0, 1]\n",
    "        normalized_kde_values = (kde_X_ji - min_value) / (max_value - min_value)\n",
    "        weights = 1 - (0.9 * normalized_kde_values)\n",
    "        weights = torch.clamp(weights, epsilon)\n",
    "        weights_sum = torch.sum(weights)\n",
    "        normalized_weights = weights / weights_sum\n",
    "        epsilon = 1e-8\n",
    "        Z_ji = torch.clamp(Z_ji, epsilon)\n",
    "        loss = X_ji * torch.log(Z_ji) + C_j * torch.exp(-Z_ji)\n",
    "        #print(\"loss\")\n",
    "        #print(loss)\n",
    "        #print(\"weights\")\n",
    "        #print(normalized_weights)\n",
    "        # compute mean over batch to normalize due to varying batch sizes\n",
    "        return (normalized_weights*loss).mean()\n"
   ]
  },
  {
   "cell_type": "code",
   "execution_count": 34,
   "id": "422082b0",
   "metadata": {},
   "outputs": [],
   "source": [
    "def plot_data(targets, outputs):\n",
    "    indices = range(len(targets[0]))\n",
    "\n",
    "    fig, axs = plt.subplots(3, 3, figsize=(15,15))\n",
    "    for i in range(3):\n",
    "        for j in range(3):\n",
    "            axs[i, j].scatter(indices, targets[i+j*3], s=5)\n",
    "            axs[i, j].scatter(indices, outputs.detach().numpy()[i+j*3], s=5)\n",
    "            axs[i, j].set_ylim(-0.25, 1.3)\n",
    "\n",
    "    plt.xlabel('Index')\n",
    "    plt.ylabel('Elongation Rates')\n",
    "    plt.legend(['GLM Elongation Rate', 'NN Elongation Rate'], loc='upper center', bbox_to_anchor=(0.5, -0.6))\n"
   ]
  },
  {
   "cell_type": "code",
   "execution_count": 35,
   "id": "6c28ed03",
   "metadata": {},
   "outputs": [
    {
     "name": "stdout",
     "output_type": "stream",
     "text": [
      "Epoch 1\n"
     ]
    },
    {
     "ename": "RuntimeError",
     "evalue": "stack expects each tensor to be equal size, but got [28000] at entry 0 and [39620] at entry 1",
     "output_type": "error",
     "traceback": [
      "\u001b[0;31m---------------------------------------------------------------------------\u001b[0m",
      "\u001b[0;31mRuntimeError\u001b[0m                              Traceback (most recent call last)",
      "Cell \u001b[0;32mIn[35], line 19\u001b[0m\n\u001b[1;32m     17\u001b[0m \u001b[39mprint\u001b[39m(\u001b[39mf\u001b[39m\u001b[39m'\u001b[39m\u001b[39mEpoch \u001b[39m\u001b[39m{\u001b[39;00mepoch\u001b[39m+\u001b[39m\u001b[39m1\u001b[39m\u001b[39m}\u001b[39;00m\u001b[39m'\u001b[39m)\n\u001b[1;32m     18\u001b[0m model\u001b[39m.\u001b[39mtrain()\n\u001b[0;32m---> 19\u001b[0m \u001b[39mfor\u001b[39;00m batch \u001b[39min\u001b[39;00m trndl:\n\u001b[1;32m     20\u001b[0m     optimizer\u001b[39m.\u001b[39mzero_grad()\n\u001b[1;32m     21\u001b[0m     \u001b[39m#Y_ji_batch = batch['Y_ji']\u001b[39;00m\n",
      "File \u001b[0;32m~/software/anaconda3/envs/cnn-motif/lib/python3.8/site-packages/torch/utils/data/dataloader.py:633\u001b[0m, in \u001b[0;36m_BaseDataLoaderIter.__next__\u001b[0;34m(self)\u001b[0m\n\u001b[1;32m    630\u001b[0m \u001b[39mif\u001b[39;00m \u001b[39mself\u001b[39m\u001b[39m.\u001b[39m_sampler_iter \u001b[39mis\u001b[39;00m \u001b[39mNone\u001b[39;00m:\n\u001b[1;32m    631\u001b[0m     \u001b[39m# TODO(https://github.com/pytorch/pytorch/issues/76750)\u001b[39;00m\n\u001b[1;32m    632\u001b[0m     \u001b[39mself\u001b[39m\u001b[39m.\u001b[39m_reset()  \u001b[39m# type: ignore[call-arg]\u001b[39;00m\n\u001b[0;32m--> 633\u001b[0m data \u001b[39m=\u001b[39m \u001b[39mself\u001b[39;49m\u001b[39m.\u001b[39;49m_next_data()\n\u001b[1;32m    634\u001b[0m \u001b[39mself\u001b[39m\u001b[39m.\u001b[39m_num_yielded \u001b[39m+\u001b[39m\u001b[39m=\u001b[39m \u001b[39m1\u001b[39m\n\u001b[1;32m    635\u001b[0m \u001b[39mif\u001b[39;00m \u001b[39mself\u001b[39m\u001b[39m.\u001b[39m_dataset_kind \u001b[39m==\u001b[39m _DatasetKind\u001b[39m.\u001b[39mIterable \u001b[39mand\u001b[39;00m \\\n\u001b[1;32m    636\u001b[0m         \u001b[39mself\u001b[39m\u001b[39m.\u001b[39m_IterableDataset_len_called \u001b[39mis\u001b[39;00m \u001b[39mnot\u001b[39;00m \u001b[39mNone\u001b[39;00m \u001b[39mand\u001b[39;00m \\\n\u001b[1;32m    637\u001b[0m         \u001b[39mself\u001b[39m\u001b[39m.\u001b[39m_num_yielded \u001b[39m>\u001b[39m \u001b[39mself\u001b[39m\u001b[39m.\u001b[39m_IterableDataset_len_called:\n",
      "File \u001b[0;32m~/software/anaconda3/envs/cnn-motif/lib/python3.8/site-packages/torch/utils/data/dataloader.py:677\u001b[0m, in \u001b[0;36m_SingleProcessDataLoaderIter._next_data\u001b[0;34m(self)\u001b[0m\n\u001b[1;32m    675\u001b[0m \u001b[39mdef\u001b[39;00m \u001b[39m_next_data\u001b[39m(\u001b[39mself\u001b[39m):\n\u001b[1;32m    676\u001b[0m     index \u001b[39m=\u001b[39m \u001b[39mself\u001b[39m\u001b[39m.\u001b[39m_next_index()  \u001b[39m# may raise StopIteration\u001b[39;00m\n\u001b[0;32m--> 677\u001b[0m     data \u001b[39m=\u001b[39m \u001b[39mself\u001b[39;49m\u001b[39m.\u001b[39;49m_dataset_fetcher\u001b[39m.\u001b[39;49mfetch(index)  \u001b[39m# may raise StopIteration\u001b[39;00m\n\u001b[1;32m    678\u001b[0m     \u001b[39mif\u001b[39;00m \u001b[39mself\u001b[39m\u001b[39m.\u001b[39m_pin_memory:\n\u001b[1;32m    679\u001b[0m         data \u001b[39m=\u001b[39m _utils\u001b[39m.\u001b[39mpin_memory\u001b[39m.\u001b[39mpin_memory(data, \u001b[39mself\u001b[39m\u001b[39m.\u001b[39m_pin_memory_device)\n",
      "File \u001b[0;32m~/software/anaconda3/envs/cnn-motif/lib/python3.8/site-packages/torch/utils/data/_utils/fetch.py:54\u001b[0m, in \u001b[0;36m_MapDatasetFetcher.fetch\u001b[0;34m(self, possibly_batched_index)\u001b[0m\n\u001b[1;32m     52\u001b[0m \u001b[39melse\u001b[39;00m:\n\u001b[1;32m     53\u001b[0m     data \u001b[39m=\u001b[39m \u001b[39mself\u001b[39m\u001b[39m.\u001b[39mdataset[possibly_batched_index]\n\u001b[0;32m---> 54\u001b[0m \u001b[39mreturn\u001b[39;00m \u001b[39mself\u001b[39;49m\u001b[39m.\u001b[39;49mcollate_fn(data)\n",
      "File \u001b[0;32m~/software/anaconda3/envs/cnn-motif/lib/python3.8/site-packages/torch/utils/data/_utils/collate.py:265\u001b[0m, in \u001b[0;36mdefault_collate\u001b[0;34m(batch)\u001b[0m\n\u001b[1;32m    204\u001b[0m \u001b[39mdef\u001b[39;00m \u001b[39mdefault_collate\u001b[39m(batch):\n\u001b[1;32m    205\u001b[0m \u001b[39m    \u001b[39m\u001b[39mr\u001b[39m\u001b[39m\"\"\"\u001b[39;00m\n\u001b[1;32m    206\u001b[0m \u001b[39m        Function that takes in a batch of data and puts the elements within the batch\u001b[39;00m\n\u001b[1;32m    207\u001b[0m \u001b[39m        into a tensor with an additional outer dimension - batch size. The exact output type can be\u001b[39;00m\n\u001b[0;32m   (...)\u001b[0m\n\u001b[1;32m    263\u001b[0m \u001b[39m            >>> default_collate(batch)  # Handle `CustomType` automatically\u001b[39;00m\n\u001b[1;32m    264\u001b[0m \u001b[39m    \"\"\"\u001b[39;00m\n\u001b[0;32m--> 265\u001b[0m     \u001b[39mreturn\u001b[39;00m collate(batch, collate_fn_map\u001b[39m=\u001b[39;49mdefault_collate_fn_map)\n",
      "File \u001b[0;32m~/software/anaconda3/envs/cnn-motif/lib/python3.8/site-packages/torch/utils/data/_utils/collate.py:127\u001b[0m, in \u001b[0;36mcollate\u001b[0;34m(batch, collate_fn_map)\u001b[0m\n\u001b[1;32m    125\u001b[0m \u001b[39mif\u001b[39;00m \u001b[39misinstance\u001b[39m(elem, collections\u001b[39m.\u001b[39mabc\u001b[39m.\u001b[39mMapping):\n\u001b[1;32m    126\u001b[0m     \u001b[39mtry\u001b[39;00m:\n\u001b[0;32m--> 127\u001b[0m         \u001b[39mreturn\u001b[39;00m elem_type({key: collate([d[key] \u001b[39mfor\u001b[39;00m d \u001b[39min\u001b[39;00m batch], collate_fn_map\u001b[39m=\u001b[39mcollate_fn_map) \u001b[39mfor\u001b[39;00m key \u001b[39min\u001b[39;00m elem})\n\u001b[1;32m    128\u001b[0m     \u001b[39mexcept\u001b[39;00m \u001b[39mTypeError\u001b[39;00m:\n\u001b[1;32m    129\u001b[0m         \u001b[39m# The mapping type may not support `__init__(iterable)`.\u001b[39;00m\n\u001b[1;32m    130\u001b[0m         \u001b[39mreturn\u001b[39;00m {key: collate([d[key] \u001b[39mfor\u001b[39;00m d \u001b[39min\u001b[39;00m batch], collate_fn_map\u001b[39m=\u001b[39mcollate_fn_map) \u001b[39mfor\u001b[39;00m key \u001b[39min\u001b[39;00m elem}\n",
      "File \u001b[0;32m~/software/anaconda3/envs/cnn-motif/lib/python3.8/site-packages/torch/utils/data/_utils/collate.py:127\u001b[0m, in \u001b[0;36m<dictcomp>\u001b[0;34m(.0)\u001b[0m\n\u001b[1;32m    125\u001b[0m \u001b[39mif\u001b[39;00m \u001b[39misinstance\u001b[39m(elem, collections\u001b[39m.\u001b[39mabc\u001b[39m.\u001b[39mMapping):\n\u001b[1;32m    126\u001b[0m     \u001b[39mtry\u001b[39;00m:\n\u001b[0;32m--> 127\u001b[0m         \u001b[39mreturn\u001b[39;00m elem_type({key: collate([d[key] \u001b[39mfor\u001b[39;49;00m d \u001b[39min\u001b[39;49;00m batch], collate_fn_map\u001b[39m=\u001b[39;49mcollate_fn_map) \u001b[39mfor\u001b[39;00m key \u001b[39min\u001b[39;00m elem})\n\u001b[1;32m    128\u001b[0m     \u001b[39mexcept\u001b[39;00m \u001b[39mTypeError\u001b[39;00m:\n\u001b[1;32m    129\u001b[0m         \u001b[39m# The mapping type may not support `__init__(iterable)`.\u001b[39;00m\n\u001b[1;32m    130\u001b[0m         \u001b[39mreturn\u001b[39;00m {key: collate([d[key] \u001b[39mfor\u001b[39;00m d \u001b[39min\u001b[39;00m batch], collate_fn_map\u001b[39m=\u001b[39mcollate_fn_map) \u001b[39mfor\u001b[39;00m key \u001b[39min\u001b[39;00m elem}\n",
      "File \u001b[0;32m~/software/anaconda3/envs/cnn-motif/lib/python3.8/site-packages/torch/utils/data/_utils/collate.py:119\u001b[0m, in \u001b[0;36mcollate\u001b[0;34m(batch, collate_fn_map)\u001b[0m\n\u001b[1;32m    117\u001b[0m \u001b[39mif\u001b[39;00m collate_fn_map \u001b[39mis\u001b[39;00m \u001b[39mnot\u001b[39;00m \u001b[39mNone\u001b[39;00m:\n\u001b[1;32m    118\u001b[0m     \u001b[39mif\u001b[39;00m elem_type \u001b[39min\u001b[39;00m collate_fn_map:\n\u001b[0;32m--> 119\u001b[0m         \u001b[39mreturn\u001b[39;00m collate_fn_map[elem_type](batch, collate_fn_map\u001b[39m=\u001b[39;49mcollate_fn_map)\n\u001b[1;32m    121\u001b[0m     \u001b[39mfor\u001b[39;00m collate_type \u001b[39min\u001b[39;00m collate_fn_map:\n\u001b[1;32m    122\u001b[0m         \u001b[39mif\u001b[39;00m \u001b[39misinstance\u001b[39m(elem, collate_type):\n",
      "File \u001b[0;32m~/software/anaconda3/envs/cnn-motif/lib/python3.8/site-packages/torch/utils/data/_utils/collate.py:162\u001b[0m, in \u001b[0;36mcollate_tensor_fn\u001b[0;34m(batch, collate_fn_map)\u001b[0m\n\u001b[1;32m    160\u001b[0m     storage \u001b[39m=\u001b[39m elem\u001b[39m.\u001b[39m_typed_storage()\u001b[39m.\u001b[39m_new_shared(numel, device\u001b[39m=\u001b[39melem\u001b[39m.\u001b[39mdevice)\n\u001b[1;32m    161\u001b[0m     out \u001b[39m=\u001b[39m elem\u001b[39m.\u001b[39mnew(storage)\u001b[39m.\u001b[39mresize_(\u001b[39mlen\u001b[39m(batch), \u001b[39m*\u001b[39m\u001b[39mlist\u001b[39m(elem\u001b[39m.\u001b[39msize()))\n\u001b[0;32m--> 162\u001b[0m \u001b[39mreturn\u001b[39;00m torch\u001b[39m.\u001b[39;49mstack(batch, \u001b[39m0\u001b[39;49m, out\u001b[39m=\u001b[39;49mout)\n",
      "\u001b[0;31mRuntimeError\u001b[0m: stack expects each tensor to be equal size, but got [28000] at entry 0 and [39620] at entry 1"
     ]
    }
   ],
   "source": [
    "import torch.optim as optim\n",
    "import torch.optim.lr_scheduler as lr_scheduler\n",
    "\n",
    "optimizer = optim.Adam(model.parameters(), lr=0.0001)\n",
    "\n",
    "scheduler = lr_scheduler.StepLR(optimizer, step_size=30, gamma=0.1)\n",
    "\n",
    "\n",
    "num_epochs = 50\n",
    "\n",
    "loss_hist_train = [0] * num_epochs\n",
    "loss_hist_valid = [0] * num_epochs\n",
    "\n",
    "loss_fn = CustomLoss_1()#nn.L1Loss()#nn.MSELoss()\n",
    "\n",
    "for epoch in range(num_epochs):\n",
    "    print(f'Epoch {epoch+1}')\n",
    "    model.train()\n",
    "    for batch in trndl:\n",
    "        optimizer.zero_grad()\n",
    "        #Y_ji_batch = batch['Y_ji']\n",
    "        X_ji_batch = batch['X_ji']\n",
    "        C_j_batch = batch['C_j']\n",
    "        outputs = model(X_ji_batch)\n",
    "        loss = loss_fn(X_ji_batch, C_j_batch, outputs)\n",
    "        #loss = loss_fn(batch['Z_ji'], outputs)\n",
    "        loss.backward()\n",
    "        optimizer.step()\n",
    "        loss_hist_train[epoch] += loss.item()\n",
    "        #if epoch == 49:\n",
    "         #   plot_data(batch['Z_ji'], outputs)\n",
    "    loss_hist_train[epoch] /= len(trndl.dataset)\n",
    "    scheduler.step()\n",
    "    \n",
    "    #model.eval()\n",
    "    #with torch.no_grad():\n",
    "    #    for batch in valdl:\n",
    "    #        Y_ji_batch = batch['Y_ji']\n",
    "    #        X_ji_batch = batch['X_ji']\n",
    "    #        C_j_batch = batch['C_j']\n",
    "    #        outputs = model(Y_ji_batch)\n",
    "    #        loss = loss_fn(X_ji_batch, C_j_batch, outputs)\n",
    "            #loss = loss_fn(batch['Z_ji'], outputs)\n",
    "    #        loss_hist_valid[epoch] += loss.item()\n",
    "    #    loss_hist_valid[epoch] /= len(valdl.dataset)\n",
    "    \n",
    "    print(f'Epoch {epoch+1} trn_loss: '\n",
    "          f'{loss_hist_train[epoch]:.4f}')# val_loss: '\n",
    "          #f'{loss_hist_valid[epoch]:.4f}')"
   ]
  },
  {
   "cell_type": "code",
   "execution_count": null,
   "id": "94841213",
   "metadata": {},
   "outputs": [],
   "source": [
    "from matplotlib import pyplot as plt\n",
    "epochs = range(1, len(loss_hist_train) + 1)\n",
    "plt.plot(epochs, loss_hist_train, label='train_loss')\n",
    "plt.plot(epochs, loss_hist_valid, label='valid_loss')\n",
    "\n",
    "plt.xlabel('Epochs')\n",
    "plt.ylabel('Loss')\n",
    "plt.legend()\n",
    "plt.show "
   ]
  },
  {
   "cell_type": "code",
   "execution_count": null,
   "id": "7239c5d6",
   "metadata": {},
   "outputs": [],
   "source": [
    "model.eval()\n",
    "\n",
    "inputs = next(iter(trndl))#tstdl)) \n",
    "print(\"number of samples: \" + str(len(inputs)))\n",
    "\n",
    "with torch.no_grad():\n",
    "    outputs = model(inputs['Y_ji'])\n",
    "    \n",
    "#outputs = torch.exp(outputs)\n",
    "print(outputs)\n",
    "\n",
    "targets = inputs['Z_ji']\n",
    "\n",
    "plot_data(targets, outputs)\n",
    "\n",
    "#for batch in trndl:\n",
    "#    targets = inputs['Z_ji']\n",
    "#    outputs = model(inputs['X_ji'])#'Y_ji'])\n",
    "#    outputs = torch.exp(outputs)\n",
    "    \n",
    "#    plot_data(targets, outputs)"
   ]
  }
 ],
 "metadata": {
  "kernelspec": {
   "display_name": "Python 3 (ipykernel)",
   "language": "python",
   "name": "python3"
  },
  "language_info": {
   "codemirror_mode": {
    "name": "ipython",
    "version": 3
   },
   "file_extension": ".py",
   "mimetype": "text/x-python",
   "name": "python",
   "nbconvert_exporter": "python",
   "pygments_lexer": "ipython3",
   "version": "3.8.17"
  }
 },
 "nbformat": 4,
 "nbformat_minor": 5
}
